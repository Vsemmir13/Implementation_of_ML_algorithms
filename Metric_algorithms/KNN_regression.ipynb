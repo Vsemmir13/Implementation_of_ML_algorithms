{
 "cells": [
  {
   "cell_type": "markdown",
   "id": "a7d59211",
   "metadata": {},
   "source": [
    "# Метод ближайших соседей (регрессия)\n",
    "\n",
    "Метод ближайших соседей (k Nearest Neighbors, или kNN) — простой алгоритм регрессии, основанный на оценивании сходства объектов. Суть метода проста: объект относится к тому классу, к которому принадлежит большинство из его ближайших k соседей. В данном классе реализованы классический и взвешенный KNN для регрессии.\n",
    "\n",
    "Реализованы методы:\n",
    "- fit для обучения модели\n",
    "- predict для предсказания таргетов\n",
    "- _init_ - конструктор\n",
    "- calculate_metric - подсчитывает нужные метрики\n",
    "- predict_with_weight - возвращает предсказание класса в зависимсости от weight\n"
   ]
  },
  {
   "cell_type": "code",
   "execution_count": 1,
   "id": "4dae1e5a",
   "metadata": {},
   "outputs": [],
   "source": [
    "import pandas as pd\n",
    "import numpy as np"
   ]
  },
  {
   "cell_type": "code",
   "execution_count": 2,
   "id": "91f39f85",
   "metadata": {},
   "outputs": [],
   "source": [
    "class MyKNNReg():\n",
    "    \n",
    "    def __init__(self, k=3, metric='euclidean', weight='uniform'):\n",
    "        '''\n",
    "        Input:\n",
    "        int k: the number of nearest neighbors that we will consider when defining the class. (default = 3)\n",
    "        str metric: name of the metric from array ['euclidean', 'chebyshev', 'manhattan', 'cosine'] \n",
    "                                                                                        (default = 'euclidean')\n",
    "        str weight: name of the metod for weighted kNN from array ['uniform', 'rank', 'distance'] \n",
    "                                                                                        (default = 'uniform')\n",
    "        '''\n",
    "        self.k = k\n",
    "        self.metric = metric\n",
    "        self.weight = weight\n",
    "        # size of the training sample\n",
    "        self.train_size = None\n",
    "        self.X = None\n",
    "        self.y = None\n",
    "\n",
    "    \n",
    "    def __str__(self):\n",
    "        '''\n",
    "        Output: \n",
    "        string - info about class parameters\n",
    "        '''\n",
    "        return f\"MyKNNReg class: k={self.k}\"\n",
    "    \n",
    "    def fit(self, X, y):\n",
    "        '''\n",
    "        Input:\n",
    "        pd.DataFrame X: features\n",
    "        pd.Series y: targets\n",
    "        '''\n",
    "        self.X = X\n",
    "        self.y = y\n",
    "        self.train_size = X.shape\n",
    "        \n",
    "    def predict(self, X):\n",
    "        '''\n",
    "        Input:\n",
    "        pd.DataFrame X: features\n",
    "        Output:\n",
    "        np.array of predictions\n",
    "        '''\n",
    "        y_pred = []\n",
    "        for i in range(X.shape[0]):\n",
    "            distances = self.calculate_metric(X_test.iloc[i])\n",
    "            distances = distances.sort_values()\n",
    "            nearest_indices = distances.head(self.k).index\n",
    "            nearest_classes = self.y.loc[nearest_indices]\n",
    "            y_pred.append(self.predict_with_weight(nearest_classes, distances))\n",
    "        return np.array(y_pred)\n",
    "    \n",
    "    def calculate_metric(self, x):\n",
    "        '''\n",
    "        Input:\n",
    "        pd.Series x: vector\n",
    "        Output:\n",
    "        pd.Series with values of metric \n",
    "        '''\n",
    "        if self.metric == 'euclidean':\n",
    "            return np.sqrt(((self.X - x) ** 2).sum(axis=1))\n",
    "        elif self.metric == 'chebyshev':\n",
    "            return np.abs(self.X - x).max(axis=1)\n",
    "        elif self.metric == 'manhattan':\n",
    "            return np.abs(self.X - x).sum(axis=1)\n",
    "        elif self.metric == 'cosine':\n",
    "            dot_product = (self.X * x).sum(axis=1)\n",
    "            norms = np.linalg.norm(self.X, axis=1) * np.linalg.norm(x)\n",
    "            return 1 - dot_product / norms\n",
    "    \n",
    "    def predict_with_weight(self, nearest_classes, distances):\n",
    "        '''\n",
    "        Input:\n",
    "        nearest_classes: array of classifications\n",
    "        distances: values of metric\n",
    "        Output:\n",
    "        classification\n",
    "        '''\n",
    "        if self.weight == 'uniform':\n",
    "            return np.mean(nearest_classes)\n",
    "        \n",
    "        elif self.weight == 'rank':\n",
    "            weights_targets = []\n",
    "            ranks = 1 / np.arange(1, self.k + 1)\n",
    "            for label, rank in zip(nearest_classes.values, ranks):\n",
    "                weights_targets.append(label * rank / np.sum(ranks))\n",
    "            return np.sum(weights_targets)\n",
    "        \n",
    "        elif self.weight == 'distance':\n",
    "            weights_targets = []\n",
    "            distances_k = 1 / np.array(distances.head(self.k).values)\n",
    "            for label, dist in zip(nearest_classes.values, distances_k):\n",
    "                weights_targets.append(label * dist / np.sum(distances_k))\n",
    "            return np.sum(weights_targets)"
   ]
  },
  {
   "cell_type": "markdown",
   "id": "6562afb0",
   "metadata": {},
   "source": [
    "## Протестируем модель\n",
    "\n",
    "Входные данные: датасет с различными параметрами\n",
    "\n",
    "Выходные данные: предсказания"
   ]
  },
  {
   "cell_type": "code",
   "execution_count": 3,
   "id": "bab6da99",
   "metadata": {},
   "outputs": [],
   "source": [
    "from sklearn.datasets import load_diabetes\n",
    "data = load_diabetes(as_frame=True)\n",
    "X, y = data['data'], data['target']\n"
   ]
  },
  {
   "cell_type": "code",
   "execution_count": 7,
   "id": "b53af5d8",
   "metadata": {},
   "outputs": [
    {
     "data": {
      "text/plain": [
       "2960.7705150915244"
      ]
     },
     "execution_count": 7,
     "metadata": {},
     "output_type": "execute_result"
    }
   ],
   "source": [
    "from sklearn.model_selection import train_test_split\n",
    "\n",
    "model = MyKNNReg(5, 'cosine', 'rank')\n",
    "\n",
    "X_train, X_test, y_train, y_test = train_test_split(X, y, test_size=0.2)\n",
    "model.fit(X_train, y_train)\n",
    "y_pred = model.predict(X_test)\n",
    "np.mean((y_pred - y_test) ** 2)"
   ]
  }
 ],
 "metadata": {
  "kernelspec": {
   "display_name": "Python 3 (ipykernel)",
   "language": "python",
   "name": "python3"
  },
  "language_info": {
   "codemirror_mode": {
    "name": "ipython",
    "version": 3
   },
   "file_extension": ".py",
   "mimetype": "text/x-python",
   "name": "python",
   "nbconvert_exporter": "python",
   "pygments_lexer": "ipython3",
   "version": "3.11.5"
  }
 },
 "nbformat": 4,
 "nbformat_minor": 5
}
