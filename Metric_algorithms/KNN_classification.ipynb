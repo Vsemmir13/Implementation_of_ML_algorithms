{
 "cells": [
  {
   "cell_type": "markdown",
   "id": "8cc560a1",
   "metadata": {},
   "source": [
    "# Метод ближайших соседей (бинарная классификация)\n",
    "\n",
    "Метод ближайших соседей (k Nearest Neighbors, или kNN) — простой алгоритм классификации (регрессии), основанный на оценивании сходства объектов. Суть метода проста: объект относится к тому классу, к которому принадлежит большинство из его ближайших k соседей. В данном классе реализованы классический и взвешенный KNN.\n",
    "\n",
    "Реализованы методы:\n",
    "- fit для обучения модели\n",
    "- predict для предсказания таргетов\n",
    "- _init_ - конструктор\n",
    "- predict_proba - возвращает вероятности для класса 1\n",
    "- calculate_metric - подсчитывает нужные метрики\n",
    "- predict_with_weight - возвращает предсказание класса или вероятность для класса 1 в зависимсости от weight\n"
   ]
  },
  {
   "cell_type": "code",
   "execution_count": 1,
   "id": "296ff9cd",
   "metadata": {},
   "outputs": [],
   "source": [
    "import pandas as pd\n",
    "import numpy as np"
   ]
  },
  {
   "cell_type": "code",
   "execution_count": 2,
   "id": "1e0d5c80",
   "metadata": {},
   "outputs": [],
   "source": [
    "class MyKNNClf():\n",
    "    \n",
    "    def __init__(self, k=3, metric='euclidean', weight='uniform'):\n",
    "        '''\n",
    "        Input:\n",
    "        int k: the number of nearest neighbors that we will consider when defining the class. (default = 3)\n",
    "        str metric: name of the metric from array ['euclidean', 'chebyshev', 'manhattan', 'cosine'] \n",
    "                                                                                        (default = 'euclidean')\n",
    "        str weight: name of the metod for weighted kNN from array ['uniform', 'rank', 'distance'] \n",
    "                                                                                        (default = 'uniform')\n",
    "        '''\n",
    "        self.k = k\n",
    "        self.metric = metric\n",
    "        self.weight = weight\n",
    "        # size of the training sample\n",
    "        self.train_size = None\n",
    "        self.X = None\n",
    "        self.y = None\n",
    "\n",
    "    \n",
    "    def __str__(self):\n",
    "        '''\n",
    "        Output: \n",
    "        string - info about class parameters\n",
    "        '''\n",
    "        return f\"MyKNNClf class: k={self.k}\"\n",
    "    \n",
    "    def fit(self, X, y):\n",
    "        '''\n",
    "        Input:\n",
    "        pd.DataFrame X: features\n",
    "        pd.Series y: targets\n",
    "        '''\n",
    "        self.X = X\n",
    "        self.y = y\n",
    "        self.train_size = X.shape\n",
    "        \n",
    "    def predict(self, X):\n",
    "        '''\n",
    "        Input:\n",
    "        pd.DataFrame X: features\n",
    "        Output:\n",
    "        np.array of predictions\n",
    "        '''\n",
    "        y_pred = []\n",
    "        for i in range(X.shape[0]):\n",
    "            distances = self.calculate_metric(X_test.iloc[i])\n",
    "            distances = distances.sort_values()\n",
    "            nearest_indices = distances.head(self.k).index\n",
    "            nearest_classes = self.y.loc[nearest_indices]\n",
    "            y_pred.append(self.predict_with_weight(nearest_classes, distances))\n",
    "        return np.array(y_pred)\n",
    "    \n",
    "    def predict_proba(self, X):\n",
    "        '''\n",
    "        Input:\n",
    "        pd.DataFrame X: features\n",
    "        Output:\n",
    "        np.array of probabilities\n",
    "        '''\n",
    "        y_proba = []\n",
    "        for i in range(X.shape[0]):\n",
    "            distances = self.calculate_metric(X_test.iloc[i])\n",
    "            distances = distances.sort_values()\n",
    "            nearest_indices = distances.head(self.k).index\n",
    "            nearest_classes = self.y.loc[nearest_indices]\n",
    "            y_proba.append(self.predict_with_weight(nearest_classes, distances, is_proba=True))\n",
    "        return np.array(y_proba)\n",
    "    \n",
    "    def predict_with_weight(self, nearest_classes, distances, is_proba=False):\n",
    "        '''\n",
    "        Input:\n",
    "        nearest_classes: array of classifications\n",
    "        distances: values of metric\n",
    "        Output:\n",
    "        classification or probability for class 1\n",
    "        '''\n",
    "        if self.weight == 'uniform':\n",
    "            if is_proba:\n",
    "                return sum(nearest_classes) / self.k\n",
    "            \n",
    "            return 1 if nearest_classes.sum() >= self.k / 2 else 0\n",
    "        \n",
    "        elif self.weight == 'rank':\n",
    "            nearest_classes = nearest_classes.reset_index()\n",
    "            del nearest_classes['index']\n",
    "            class_0 = sum(1 / (nearest_classes[nearest_classes.iloc[:, 0] == 0].index + 1)) / sum(1 / (nearest_classes.index + 1))\n",
    "            class_1 = sum(1 / (nearest_classes[nearest_classes.iloc[:, 0] == 1].index + 1)) / sum(1 / (nearest_classes.index + 1))\n",
    "            if is_proba:\n",
    "                return class_1\n",
    "            \n",
    "            return 1 if class_1 >= class_0 else 0\n",
    "        \n",
    "        elif self.weight == 'distance':\n",
    "            class_0 = sum(1 / (distances.loc[nearest_classes[nearest_classes == 0].index])) / sum(1 / (distances.loc[nearest_classes.index]))\n",
    "            class_1 = sum(1 / (distances.loc[nearest_classes[nearest_classes == 1].index])) / sum(1 / (distances.loc[nearest_classes.index]))\n",
    "            if is_proba:\n",
    "                return class_1\n",
    "            \n",
    "            return 1 if class_1 >= class_0 else 0\n",
    "                \n",
    "        \n",
    "    def calculate_metric(self, x):\n",
    "        '''\n",
    "        Input:\n",
    "        pd.Series x: vector\n",
    "        Output:\n",
    "        pd.Series with values of metric \n",
    "        '''\n",
    "        if self.metric == 'euclidean':\n",
    "            return np.sqrt(((self.X - x) ** 2).sum(axis=1))\n",
    "        elif self.metric == 'chebyshev':\n",
    "            return np.abs(self.X - x).max(axis=1)\n",
    "        elif self.metric == 'manhattan':\n",
    "            return np.abs(self.X - x).sum(axis=1)\n",
    "        elif self.metric == 'cosine':\n",
    "            dot_product = (self.X * x).sum(axis=1)\n",
    "            norms = np.linalg.norm(self.X, axis=1) * np.linalg.norm(x)\n",
    "            return 1 - dot_product / norms"
   ]
  },
  {
   "cell_type": "markdown",
   "id": "8a1ae49b",
   "metadata": {},
   "source": [
    "## Протестируем модель\n",
    "\n",
    "Входные данные: датасет с различными параметрами\n",
    "\n",
    "Выходные данные: возвращенные предсказания\n"
   ]
  },
  {
   "cell_type": "code",
   "execution_count": 3,
   "id": "8c171f31",
   "metadata": {},
   "outputs": [],
   "source": [
    "df = pd.read_csv('../data_banknote_authentication.txt', header=None)\n",
    "df.columns = ['variance', 'skewness', 'curtosis', 'entropy', 'target']\n",
    "X, y = df.iloc[:,:4], df['target']"
   ]
  },
  {
   "cell_type": "code",
   "execution_count": 4,
   "id": "08ec398c",
   "metadata": {},
   "outputs": [
    {
     "data": {
      "text/plain": [
       "-1"
      ]
     },
     "execution_count": 4,
     "metadata": {},
     "output_type": "execute_result"
    }
   ],
   "source": [
    "from sklearn.model_selection import train_test_split\n",
    "\n",
    "model = MyKNNClf(5, 'cosine', 'rank')\n",
    "\n",
    "X_train, X_test, y_train, y_test = train_test_split(X, y, test_size=0.2)\n",
    "model.fit(X_train, y_train)\n",
    "y_pred = model.predict(X_test)\n",
    "np.sum(y_pred - y_test)"
   ]
  },
  {
   "cell_type": "markdown",
   "id": "048b6e32",
   "metadata": {},
   "source": [
    "Как ожидалось, наша модель выдает маленькую ошибку. Следовательно, алгоритм реализован верно."
   ]
  }
 ],
 "metadata": {
  "kernelspec": {
   "display_name": "Python 3 (ipykernel)",
   "language": "python",
   "name": "python3"
  },
  "language_info": {
   "codemirror_mode": {
    "name": "ipython",
    "version": 3
   },
   "file_extension": ".py",
   "mimetype": "text/x-python",
   "name": "python",
   "nbconvert_exporter": "python",
   "pygments_lexer": "ipython3",
   "version": "3.11.5"
  }
 },
 "nbformat": 4,
 "nbformat_minor": 5
}
